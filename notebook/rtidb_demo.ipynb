{
 "cells": [
  {
   "source": [
    "from rtidb_command import init_conf, start_rtidb, stop_rtidb, init_dram_table, init_pmem_table, test_dram_get, test_pmem_get, check_recovery_time, clear_rtidb"
   ],
   "cell_type": "code",
   "metadata": {},
   "execution_count": null,
   "outputs": []
  },
  {
   "source": [
    "# initialize config files and scripts\n",
    "init_conf(pmem_path=\"/pmem\")"
   ],
   "cell_type": "code",
   "metadata": {},
   "execution_count": null,
   "outputs": []
  },
  {
   "source": [
    "# start all rtidb components (tablet server, name server, zookeeper)\n",
    "start_rtidb()"
   ],
   "cell_type": "code",
   "metadata": {},
   "execution_count": null,
   "outputs": []
  },
  {
   "source": [
    "# initialize DRAM table, using 20 threads, with 1000000 keys each, you can change the two parameters to adjust the overall time\n",
    "init_dram_table(thread_num=20, loop_count=1000000)"
   ],
   "cell_type": "code",
   "metadata": {},
   "execution_count": null,
   "outputs": []
  },
  {
   "source": [
    "# initialize PMEM table, using 20 threads, with 1000000 keys each, you can change the two parameters to adjust the overall time\n",
    "init_pmem_table(thread_num=20, loop_count=1000000)"
   ],
   "cell_type": "code",
   "metadata": {},
   "execution_count": null,
   "outputs": []
  },
  {
   "source": [
    "# test the performance of GET operation with random keys in DRAM table\n",
    "test_dram_get(thread_num=1, key_count=20000000)"
   ],
   "cell_type": "code",
   "metadata": {},
   "execution_count": null,
   "outputs": []
  },
  {
   "source": [
    "# test the performance of GET operation with random keys in PMEM table\n",
    "test_pmem_get(thread_num=1, key_count=20000000)"
   ],
   "cell_type": "code",
   "metadata": {},
   "execution_count": null,
   "outputs": []
  },
  {
   "source": [
    "# stop all rtidb components (tablet server, name server, zookeeper)\n",
    "stop_rtidb()"
   ],
   "cell_type": "code",
   "metadata": {},
   "execution_count": null,
   "outputs": []
  },
  {
   "source": [
    "# start all rtidb components again to trigger the recovery of both DRAM and PMEM tables\n",
    "start_rtidb()"
   ],
   "cell_type": "code",
   "metadata": {},
   "execution_count": null,
   "outputs": []
  },
  {
   "source": [
    "# show the recovery time of both DRAM and PMEM tables after they finish recovery\n",
    "check_recovery_time()"
   ],
   "cell_type": "code",
   "metadata": {},
   "execution_count": null,
   "outputs": []
  },
  {
   "source": [
    "# stop all rtidb components and be ready for clean up\n",
    "stop_rtidb()"
   ],
   "cell_type": "code",
   "metadata": {},
   "execution_count": null,
   "outputs": []
  },
  {
   "source": [
    "# delete all the data of this demo\n",
    "clear_rtidb()"
   ],
   "cell_type": "code",
   "metadata": {},
   "execution_count": null,
   "outputs": []
  }
 ],
 "metadata": {
  "kernelspec": {
   "display_name": "Python 3",
   "language": "python",
   "name": "python3"
  },
  "language_info": {
   "codemirror_mode": {
    "name": "ipython",
    "version": 3
   },
   "file_extension": ".py",
   "mimetype": "text/x-python",
   "name": "python",
   "nbconvert_exporter": "python",
   "pygments_lexer": "ipython3",
   "version": "3.6.8"
  }
 },
 "nbformat": 4,
 "nbformat_minor": 5
}
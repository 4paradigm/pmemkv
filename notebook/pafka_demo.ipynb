{
 "cells": [
  {
   "cell_type": "code",
   "execution_count": 1,
   "id": "ecb01277-11b2-4b41-a973-f7543f509334",
   "metadata": {},
   "outputs": [],
   "source": [
    "from command import start_kafka, start_pafka, stop_kafka, stop_pafka, bench_producer, bench_consumer, print_result"
   ]
  },
  {
   "cell_type": "code",
   "execution_count": 2,
   "id": "dbff322d-5acb-4768-b1f1-45c54f8f44af",
   "metadata": {},
   "outputs": [],
   "source": [
    "# ***** benchmark for Kafka *****"
   ]
  },
  {
   "cell_type": "code",
   "execution_count": 3,
   "id": "e4fe7b7c-a481-4ebf-9275-dc29e61b6d1d",
   "metadata": {},
   "outputs": [
    {
     "name": "stdout",
     "output_type": "stream",
     "text": [
      "starting zookeeper ...\n",
      "[2021-05-10 11:44:33,233] INFO maxSessionTimeout set to 60000 (org.apache.zookeeper.server.ZooKeeperServer)\n",
      "[2021-05-10 11:44:33,234] INFO Created server with tickTime 3000 minSessionTimeout 6000 maxSessionTimeout 60000 datadir /mnt/hdd/zookeeper/version-2 snapdir /mnt/hdd/zookeeper/version-2 (org.apache.zookeeper.server.ZooKeeperServer)\n",
      "[2021-05-10 11:44:33,239] INFO Using org.apache.zookeeper.server.NIOServerCnxnFactory as server connection factory (org.apache.zookeeper.server.ServerCnxnFactory)\n",
      "[2021-05-10 11:44:33,241] INFO Configuring NIO connection handler with 10s sessionless connection timeout, 6 selector thread(s), 192 worker threads, and 64 kB direct buffers. (org.apache.zookeeper.server.NIOServerCnxnFactory)\n",
      "[2021-05-10 11:44:33,243] INFO binding to port 0.0.0.0/0.0.0.0:2181 (org.apache.zookeeper.server.NIOServerCnxnFactory)\n",
      "[2021-05-10 11:44:33,252] INFO zookeeper.snapshotSizeFactor = 0.33 (org.apache.zookeeper.server.ZKDatabase)\n",
      "[2021-05-10 11:44:33,255] INFO Snapshotting: 0x0 to /mnt/hdd/zookeeper/version-2/snapshot.0 (org.apache.zookeeper.server.persistence.FileTxnSnapLog)\n",
      "[2021-05-10 11:44:33,256] INFO Snapshotting: 0x0 to /mnt/hdd/zookeeper/version-2/snapshot.0 (org.apache.zookeeper.server.persistence.FileTxnSnapLog)\n",
      "[2021-05-10 11:44:33,272] INFO PrepRequestProcessor (sid:0) started, reconfigEnabled=false (org.apache.zookeeper.server.PrepRequestProcessor)\n",
      "[2021-05-10 11:44:33,275] INFO Using checkIntervalMs=60000 maxPerMinute=10000 (org.apache.zookeeper.server.ContainerManager)\n",
      "\n",
      "starting kafka ...\n",
      "[2021-05-10 11:44:36,698] INFO Updated cache from existing <empty> to latest FinalizedFeaturesAndEpoch(features=Features{}, epoch=0). (kafka.server.FinalizedFeatureCache)\n",
      "[2021-05-10 11:44:36,714] INFO [/config/changes-event-process-thread]: Starting (kafka.common.ZkNodeChangeNotificationListener$ChangeEventProcessThread)\n",
      "[2021-05-10 11:44:36,731] INFO [SocketServer listenerType=ZK_BROKER, nodeId=0] Starting socket server acceptors and processors (kafka.network.SocketServer)\n",
      "[2021-05-10 11:44:36,736] INFO [SocketServer listenerType=ZK_BROKER, nodeId=0] Started data-plane acceptor and processor(s) for endpoint : ListenerName(PLAINTEXT) (kafka.network.SocketServer)\n",
      "[2021-05-10 11:44:36,736] INFO [SocketServer listenerType=ZK_BROKER, nodeId=0] Started socket server acceptors and processors (kafka.network.SocketServer)\n",
      "[2021-05-10 11:44:36,739] INFO Kafka version: 3.0.0-SNAPSHOT (org.apache.kafka.common.utils.AppInfoParser)\n",
      "[2021-05-10 11:44:36,739] INFO Kafka commitId: 7fbfc08e29f9480b (org.apache.kafka.common.utils.AppInfoParser)\n",
      "[2021-05-10 11:44:36,739] INFO Kafka startTimeMs: 1620618276737 (org.apache.kafka.common.utils.AppInfoParser)\n",
      "[2021-05-10 11:44:36,741] INFO [KafkaServer id=0] started (kafka.server.KafkaServer)\n",
      "[2021-05-10 11:44:36,841] INFO [BrokerToControllerChannelManager broker=0 name=alterIsr]: Recorded new controller, from now on will use broker node-4.sg.4pd.io:9092 (id: 0 rack: null) (kafka.server.BrokerToControllerRequestThread)\n",
      "\n",
      "kafka started\n"
     ]
    }
   ],
   "source": [
    "# Environment initialization, start zookeeper and kafka\n",
    "start_kafka()"
   ]
  },
  {
   "cell_type": "code",
   "execution_count": 4,
   "id": "878b2ece-299d-450d-875a-4859a8f9231e",
   "metadata": {},
   "outputs": [
    {
     "name": "stdout",
     "output_type": "stream",
     "text": [
      "621821 records sent, 124364.2 records/sec (121.45 MB/sec), 220.9 ms avg latency (window), 631.0 ms max latency (window), 220.9 ms avg latency, 631.0 ms max latency.\n",
      "1043590 records sent, 208718.0 records/sec (203.83 MB/sec), 154.7 ms avg latency (window), 234.0 ms max latency (window), 179.4 ms avg latency, 631.0 ms max latency.\n",
      "845142 records sent, 169028.4 records/sec (165.07 MB/sec), 187.2 ms avg latency (window), 1887.0 ms max latency (window), 182.1 ms avg latency, 1887.0 ms max latency.\n",
      "1167347 records sent, 233469.4 records/sec (228.00 MB/sec), 136.1 ms avg latency (window), 512.0 ms max latency (window), 167.5 ms avg latency, 1887.0 ms max latency.\n",
      "642227 records sent, 128445.4 records/sec (125.43 MB/sec), 246.6 ms avg latency (window), 2635.0 ms max latency (window), 179.2 ms avg latency, 2635.0 ms max latency.\n",
      "871686 records sent, 82679.1 records/sec (80.74 MB/sec), 128.3 ms avg latency (window), 7148.0 ms max latency (window), 170.7 ms avg latency, 7148.0 ms max latency.\n",
      "966960 records sent, 193392.0 records/sec (188.86 MB/sec), 391.9 ms avg latency (window), 7153.0 ms max latency (window), 205.4 ms avg latency, 7153.0 ms max latency.\n",
      "71416 records sent, 6870.9 records/sec (6.71 MB/sec), 110.7 ms avg latency (window), 10271.0 ms max latency (window), 204.3 ms avg latency, 10271.0 ms max latency.\n",
      "1038376 records sent, 58585.9 records/sec (57.21 MB/sec), 459.0 ms avg latency (window), 13201.0 ms max latency (window), 240.7 ms avg latency, 13201.0 ms max latency.\n",
      "794582 records sent, 158916.4 records/sec (155.19 MB/sec), 732.5 ms avg latency (window), 13625.0 ms max latency (window), 289.2 ms avg latency, 13625.0 ms max latency.\n",
      "243794 records sent, 24730.6 records/sec (24.15 MB/sec), 150.5 ms avg latency (window), 8867.0 ms max latency (window), 285.1 ms avg latency, 13625.0 ms max latency.\n",
      "1038376 records sent, 169724.7 records/sec (165.75 MB/sec), 423.5 ms avg latency (window), 8881.0 ms max latency (window), 300.5 ms avg latency, 13625.0 ms max latency.\n",
      "10000000 records sent, 106245.086165 records/sec (103.75 MB/sec), 298.99 ms avg latency, 13625.00 ms max latency, 141 ms 50th, 245 ms 95th, 7152 ms 99th, 13620 ms 99.9th.\n",
      "Benchmark producer done\n"
     ]
    }
   ],
   "source": [
    "# benchmark the producer performance of kafka\n",
    "bench_producer(num_records=10000000, record_size=1024)"
   ]
  },
  {
   "cell_type": "code",
   "execution_count": 5,
   "id": "1591f2df-b4e0-4a7a-a7dc-31df6be57079",
   "metadata": {
    "tags": []
   },
   "outputs": [
    {
     "name": "stdout",
     "output_type": "stream",
     "text": [
      "time, threadId, data.consumed.in.MB, MB.sec, data.consumed.in.nMsg, nMsg.sec, rebalance.time.ms, fetch.time.ms, fetch.MB.sec, fetch.nMsg.sec, windowMaxLatency, windowAvgLatency, maxLatency, avgLatency\n",
      "2021-05-10 11:46:23:466, 0, 74.9229, 74.9229, 76721, 76721.0000, 249, 751, 99.7641, 102158.4554, 273.0000, 6.4415, 273.0000, 6.4415\n",
      "2021-05-10 11:46:24:471, 0, 172.1299, 96.7234, 176261, 99044.7761, 0, 1005, 96.7234, 99044.7761, 23.0000, 4.9819, 273.0000, 5.6172\n",
      "2021-05-10 11:46:25:477, 0, 271.1885, 98.4678, 277697, 100831.0139, 0, 1006, 98.4678, 100831.0139, 33.0000, 4.9029, 273.0000, 5.3563\n",
      "2021-05-10 11:46:26:481, 0, 373.9502, 102.3523, 382925, 104808.7649, 0, 1004, 102.3523, 104808.7649, 14.0000, 4.7167, 273.0000, 5.1805\n",
      "2021-05-10 11:46:27:486, 0, 473.0088, 98.5658, 484361, 100931.3433, 0, 1005, 98.5658, 100931.3433, 13.0000, 4.9000, 273.0000, 5.1218\n",
      "2021-05-10 11:46:28:489, 0, 551.7002, 78.4560, 564941, 80338.9831, 0, 1003, 78.4560, 80338.9831, 82.0000, 6.1701, 273.0000, 5.2713\n",
      "2021-05-10 11:46:29:492, 0, 650.7588, 98.7623, 666377, 101132.6022, 0, 1003, 98.7623, 101132.6022, 20.0000, 4.8835, 273.0000, 5.2123\n",
      "2021-05-10 11:46:30:498, 0, 751.6689, 100.3083, 769709, 102715.7058, 0, 1006, 100.3083, 102715.7058, 13.0000, 4.8009, 273.0000, 5.1571\n",
      "2021-05-10 11:46:31:498, 0, 852.5791, 100.9102, 873041, 103332.0000, 0, 1000, 100.9102, 103332.0000, 14.0000, 4.7814, 273.0000, 5.1126\n",
      "2021-05-10 11:46:32:506, 0, 957.1924, 103.7830, 980165, 106273.8095, 0, 1008, 103.7830, 106273.8095, 12.0000, 4.6471, 273.0000, 5.0617\n",
      "2021-05-10 11:46:33:506, 0, 1056.1221, 98.9297, 1081469, 101304.0000, 0, 1000, 98.9297, 101304.0000, 41.0000, 4.8658, 273.0000, 5.0434\n",
      "2021-05-10 11:46:34:510, 0, 1150.9893, 94.4892, 1178613, 96756.9721, 0, 1004, 94.4892, 96756.9721, 38.0000, 5.1082, 273.0000, 5.0487\n",
      "2021-05-10 11:46:35:520, 0, 1180.6143, 29.3317, 1208949, 30035.6436, 0, 1010, 29.3317, 30035.6436, 439.0000, 16.5955, 439.0000, 5.3384\n",
      "2021-05-10 11:46:36:893, 0, 1192.6494, 8.7656, 1221273, 8975.9650, 0, 1373, 8.7656, 8975.9650, 556.0000, 55.6495, 556.0000, 5.8461\n",
      "2021-05-10 11:46:37:907, 0, 1213.0166, 20.0860, 1242129, 20568.0473, 0, 1014, 20.0860, 20568.0473, 573.0000, 24.2746, 573.0000, 6.1556\n",
      "2021-05-10 11:46:39:071, 0, 1227.8291, 12.7255, 1257297, 13030.9278, 0, 1164, 12.7255, 13030.9278, 539.0000, 38.3051, 573.0000, 6.5434\n",
      "2021-05-10 11:46:40:433, 0, 1235.2354, 5.4378, 1264881, 5568.2819, 0, 1362, 5.4378, 5568.2819, 1187.0000, 89.7257, 1187.0000, 7.0422\n",
      "2021-05-10 11:46:41:591, 0, 1250.0479, 12.7915, 1280049, 13098.4456, 0, 1158, 12.7915, 13098.4456, 498.0000, 38.1245, 1187.0000, 7.4105\n",
      "2021-05-10 11:46:42:615, 0, 1265.7861, 15.3694, 1296165, 15738.2813, 0, 1024, 15.3694, 15738.2813, 488.0000, 31.7180, 1187.0000, 7.7127\n",
      "2021-05-10 11:46:43:618, 0, 1299.1143, 33.2284, 1330293, 34025.9222, 0, 1003, 33.2284, 34025.9222, 464.0000, 14.6505, 1187.0000, 7.8907\n",
      "2021-05-10 11:46:44:619, 0, 1396.3213, 97.1099, 1429833, 99440.5594, 0, 1001, 97.1099, 99440.5594, 31.0000, 4.9801, 1187.0000, 7.6881\n",
      "2021-05-10 11:46:45:625, 0, 1496.3057, 99.3880, 1532217, 101773.3598, 0, 1006, 99.3880, 101773.3598, 27.0000, 4.8550, 1187.0000, 7.4987\n",
      "2021-05-10 11:46:46:626, 0, 1596.2900, 99.8845, 1634601, 102281.7183, 0, 1001, 99.8845, 102281.7183, 12.0000, 4.8412, 1187.0000, 7.3323\n",
      "2021-05-10 11:46:47:632, 0, 1700.9033, 103.9893, 1741725, 106485.0895, 0, 1006, 103.9893, 106485.0895, 11.0000, 4.6489, 1187.0000, 7.1673\n",
      "2021-05-10 11:46:48:634, 0, 1804.5908, 103.4805, 1847901, 105964.0719, 0, 1002, 103.4805, 105964.0719, 11.0000, 4.6755, 1187.0000, 7.0241\n",
      "2021-05-10 11:46:49:634, 0, 1900.4346, 95.8438, 1946045, 98144.0000, 0, 1000, 95.8438, 98144.0000, 20.0000, 5.0389, 1187.0000, 6.9240\n",
      "2000080 records received, 72244.18 records/sec (70.55 MB/sec), 6.86 ms avg latency, 1187.00 ms max latency\n",
      "Benchmark consumer done\n"
     ]
    }
   ],
   "source": [
    "# benchmark the consumer performance of kafka\n",
    "bench_consumer(num_records=2000000)"
   ]
  },
  {
   "cell_type": "code",
   "execution_count": 6,
   "id": "f6769358-75a4-4aa1-92ab-826b6c96d7e4",
   "metadata": {},
   "outputs": [
    {
     "name": "stdout",
     "output_type": "stream",
     "text": [
      "stopping kafka ...\n",
      "..//bin/zookeeper-server-stop.sh: line 34: kill: (49731) - Operation not permitted\n",
      "\n",
      "data deleted\n"
     ]
    }
   ],
   "source": [
    "# stop zookeeper and kafka service, and delete all the data\n",
    "stop_kafka(delete_data=True)"
   ]
  },
  {
   "cell_type": "code",
   "execution_count": 7,
   "id": "05a79146-9990-4ee0-b244-8e45b9e77b8f",
   "metadata": {},
   "outputs": [],
   "source": [
    "# ***** benchmark for Pafka *****"
   ]
  },
  {
   "cell_type": "code",
   "execution_count": 8,
   "id": "6a86dd27-3577-4d30-a597-eb14e296bf61",
   "metadata": {},
   "outputs": [
    {
     "name": "stdout",
     "output_type": "stream",
     "text": [
      "starting zookeeper ...\n",
      "[2021-05-10 11:46:55,237] INFO maxSessionTimeout set to 60000 (org.apache.zookeeper.server.ZooKeeperServer)\n",
      "[2021-05-10 11:46:55,237] INFO Created server with tickTime 3000 minSessionTimeout 6000 maxSessionTimeout 60000 datadir /mnt/mem/zookeeper/version-2 snapdir /mnt/mem/zookeeper/version-2 (org.apache.zookeeper.server.ZooKeeperServer)\n",
      "[2021-05-10 11:46:55,242] INFO Using org.apache.zookeeper.server.NIOServerCnxnFactory as server connection factory (org.apache.zookeeper.server.ServerCnxnFactory)\n",
      "[2021-05-10 11:46:55,243] INFO Configuring NIO connection handler with 10s sessionless connection timeout, 6 selector thread(s), 192 worker threads, and 64 kB direct buffers. (org.apache.zookeeper.server.NIOServerCnxnFactory)\n",
      "[2021-05-10 11:46:55,246] INFO binding to port 0.0.0.0/0.0.0.0:2181 (org.apache.zookeeper.server.NIOServerCnxnFactory)\n",
      "[2021-05-10 11:46:55,256] INFO zookeeper.snapshotSizeFactor = 0.33 (org.apache.zookeeper.server.ZKDatabase)\n",
      "[2021-05-10 11:46:55,259] INFO Snapshotting: 0x0 to /mnt/mem/zookeeper/version-2/snapshot.0 (org.apache.zookeeper.server.persistence.FileTxnSnapLog)\n",
      "[2021-05-10 11:46:55,260] INFO Snapshotting: 0x0 to /mnt/mem/zookeeper/version-2/snapshot.0 (org.apache.zookeeper.server.persistence.FileTxnSnapLog)\n",
      "[2021-05-10 11:46:55,277] INFO PrepRequestProcessor (sid:0) started, reconfigEnabled=false (org.apache.zookeeper.server.PrepRequestProcessor)\n",
      "[2021-05-10 11:46:55,280] INFO Using checkIntervalMs=60000 maxPerMinute=10000 (org.apache.zookeeper.server.ContainerManager)\n",
      "\n",
      "starting pafka ...\n",
      "[2021-05-10 11:47:49,118] INFO [ExpirationReaper-0-AlterAcls]: Starting (kafka.server.DelayedOperationPurgatory$ExpiredOperationReaper)\n",
      "[2021-05-10 11:47:49,135] INFO [/config/changes-event-process-thread]: Starting (kafka.common.ZkNodeChangeNotificationListener$ChangeEventProcessThread)\n",
      "[2021-05-10 11:47:49,154] INFO [SocketServer listenerType=ZK_BROKER, nodeId=0] Starting socket server acceptors and processors (kafka.network.SocketServer)\n",
      "[2021-05-10 11:47:49,158] INFO [SocketServer listenerType=ZK_BROKER, nodeId=0] Started data-plane acceptor and processor(s) for endpoint : ListenerName(PLAINTEXT) (kafka.network.SocketServer)\n",
      "[2021-05-10 11:47:49,159] INFO [SocketServer listenerType=ZK_BROKER, nodeId=0] Started socket server acceptors and processors (kafka.network.SocketServer)\n",
      "[2021-05-10 11:47:49,160] INFO Kafka version: 3.0.0-SNAPSHOT (org.apache.kafka.common.utils.AppInfoParser)\n",
      "[2021-05-10 11:47:49,161] INFO Kafka commitId: 7fbfc08e29f9480b (org.apache.kafka.common.utils.AppInfoParser)\n",
      "[2021-05-10 11:47:49,161] INFO Kafka startTimeMs: 1620618469159 (org.apache.kafka.common.utils.AppInfoParser)\n",
      "[2021-05-10 11:47:49,162] INFO [KafkaServer id=0] started (kafka.server.KafkaServer)\n",
      "[2021-05-10 11:47:49,350] INFO [BrokerToControllerChannelManager broker=0 name=alterIsr]: Recorded new controller, from now on will use broker node-4.sg.4pd.io:9092 (id: 0 rack: null) (kafka.server.BrokerToControllerRequestThread)\n",
      "\n",
      "pafka started\n"
     ]
    }
   ],
   "source": [
    "# start pafka with PMem. if service already started. stop first\n",
    "# stop_pafka(delete_data=True)\n",
    "start_pafka()"
   ]
  },
  {
   "cell_type": "code",
   "execution_count": 9,
   "id": "9aad2066-6428-498f-b9ba-ebd7ac4a5d6c",
   "metadata": {},
   "outputs": [
    {
     "name": "stdout",
     "output_type": "stream",
     "text": [
      "888959 records sent, 177791.8 records/sec (173.62 MB/sec), 156.1 ms avg latency (window), 604.0 ms max latency (window), 156.1 ms avg latency, 604.0 ms max latency.\n",
      "1978927 records sent, 395785.4 records/sec (386.51 MB/sec), 30.3 ms avg latency (window), 121.0 ms max latency (window), 69.3 ms avg latency, 604.0 ms max latency.\n",
      "1971557 records sent, 394311.4 records/sec (385.07 MB/sec), 8.0 ms avg latency (window), 99.0 ms max latency (window), 44.3 ms avg latency, 604.0 ms max latency.\n",
      "2170813 records sent, 434162.6 records/sec (423.99 MB/sec), 17.4 ms avg latency (window), 100.0 ms max latency (window), 36.0 ms avg latency, 604.0 ms max latency.\n",
      "2075402 records sent, 415080.4 records/sec (405.35 MB/sec), 7.3 ms avg latency (window), 64.0 ms max latency (window), 29.4 ms avg latency, 604.0 ms max latency.\n",
      "10000000 records sent, 362778.886269 records/sec (354.28 MB/sec), 27.94 ms avg latency, 604.00 ms max latency, 3 ms 50th, 139 ms 95th, 206 ms 99th, 343 ms 99.9th.\n",
      "Benchmark producer done\n"
     ]
    }
   ],
   "source": [
    "# benchmark the producer performance of pafka\n",
    "bench_producer(num_records=10000000, record_size=1024)"
   ]
  },
  {
   "cell_type": "code",
   "execution_count": 10,
   "id": "12743b59-f2b1-4bdd-95d0-7e0e14d135fb",
   "metadata": {
    "tags": []
   },
   "outputs": [
    {
     "name": "stdout",
     "output_type": "stream",
     "text": [
      "time, threadId, data.consumed.in.MB, MB.sec, data.consumed.in.nMsg, nMsg.sec, rebalance.time.ms, fetch.time.ms, fetch.MB.sec, fetch.nMsg.sec, windowMaxLatency, windowAvgLatency, maxLatency, avgLatency\n",
      "2021-05-10 11:48:31:499, 0, 175.9482, 175.4220, 180171, 179632.1037, 246, 757, 232.4283, 238006.6050, 272.0000, 2.7423, 272.0000, 2.7423\n",
      "2021-05-10 11:48:32:499, 0, 567.5537, 391.6055, 581175, 401004.0000, 0, 1000, 391.6055, 401004.0000, 15.0000, 1.2191, 272.0000, 1.6913\n",
      "2021-05-10 11:48:33:499, 0, 1073.3389, 505.7852, 1099099, 517924.0000, 0, 1000, 505.7852, 517924.0000, 13.0000, 0.9465, 272.0000, 1.3403\n",
      "2021-05-10 11:48:34:499, 0, 1580.1758, 506.8369, 1618100, 519001.0000, 0, 1000, 506.8369, 519001.0000, 8.0000, 0.9428, 272.0000, 1.2128\n",
      "2021-05-10 11:48:35:499, 0, 2067.0898, 486.9141, 2116700, 498600.0000, 0, 1000, 486.9141, 498600.0000, 7.0000, 0.9697, 272.0000, 1.1556\n",
      "2021-05-10 11:48:36:499, 0, 2568.3115, 501.2217, 2629951, 513251.0000, 0, 1000, 501.2217, 513251.0000, 8.0000, 0.9489, 272.0000, 1.1152\n",
      "2021-05-10 11:48:37:499, 0, 3155.9824, 587.6709, 3231726, 601775.0000, 0, 1000, 587.6709, 601775.0000, 6.0000, 0.8063, 272.0000, 1.0577\n",
      "2021-05-10 11:48:38:499, 0, 3754.7197, 598.7373, 3844833, 613107.0000, 0, 1000, 598.7373, 613107.0000, 5.0000, 0.7920, 272.0000, 1.0153\n",
      "2021-05-10 11:48:39:499, 0, 4342.2314, 587.5117, 4446445, 601612.0000, 0, 1000, 587.5117, 601612.0000, 5.0000, 0.8073, 272.0000, 0.9872\n",
      "2021-05-10 11:48:40:499, 0, 4894.2402, 552.0088, 5011702, 565257.0000, 0, 1000, 552.0088, 565257.0000, 6.0000, 0.8540, 272.0000, 0.9722\n",
      "2021-05-10 11:48:41:499, 0, 5444.6143, 550.3740, 5575285, 563583.0000, 0, 1000, 550.3740, 563583.0000, 6.0000, 0.8649, 272.0000, 0.9613\n",
      "2021-05-10 11:48:42:499, 0, 5997.3457, 552.7314, 6141282, 565997.0000, 0, 1000, 552.7314, 565997.0000, 5.0000, 0.8606, 272.0000, 0.9520\n",
      "2021-05-10 11:48:43:499, 0, 6542.6650, 545.3193, 6699689, 558407.0000, 0, 1000, 545.3193, 558407.0000, 11.0000, 0.8700, 272.0000, 0.9452\n",
      "2021-05-10 11:48:44:499, 0, 7150.5840, 607.9189, 7322198, 622509.0000, 0, 1000, 607.9189, 622509.0000, 6.0000, 0.7776, 272.0000, 0.9310\n",
      "2021-05-10 11:48:45:499, 0, 7744.4854, 593.9014, 7930353, 608155.0000, 0, 1000, 593.9014, 608155.0000, 6.0000, 0.8000, 272.0000, 0.9209\n",
      "2021-05-10 11:48:46:499, 0, 8307.9434, 563.4580, 8507334, 576981.0000, 0, 1000, 563.4580, 576981.0000, 6.0000, 0.8417, 272.0000, 0.9155\n",
      "2021-05-10 11:48:47:499, 0, 8854.4355, 546.4922, 9066942, 559608.0000, 0, 1000, 546.4922, 559608.0000, 6.0000, 0.8665, 272.0000, 0.9125\n",
      "2021-05-10 11:48:48:499, 0, 9352.5615, 498.1260, 9577023, 510081.0000, 0, 1000, 498.1260, 510081.0000, 7.0000, 0.9522, 272.0000, 0.9146\n",
      "10000000 records received, 533219.58 records/sec (520.72 MB/sec), 0.91 ms avg latency, 272.00 ms max latency\n",
      "Benchmark consumer done\n"
     ]
    }
   ],
   "source": [
    "# benchmark the consumer performance of pafka\n",
    "bench_consumer(num_records=10000000)"
   ]
  },
  {
   "cell_type": "code",
   "execution_count": 11,
   "id": "a5e43504-8864-4fe3-a5eb-a1922343e7f8",
   "metadata": {},
   "outputs": [
    {
     "name": "stdout",
     "output_type": "stream",
     "text": [
      "stopping pafka ...\n",
      "..//bin/zookeeper-server-stop.sh: line 34: kill: (49731) - Operation not permitted\n",
      "\n",
      "data deleted\n"
     ]
    }
   ],
   "source": [
    "# stop zookeeper and kafka service\n",
    "stop_pafka(delete_data=True)"
   ]
  },
  {
   "cell_type": "code",
   "execution_count": 12,
   "id": "4808c5d3-b84e-4d6f-8f95-5b3ad2be1736",
   "metadata": {},
   "outputs": [
    {
     "name": "stdout",
     "output_type": "stream",
     "text": [
      "       Producer Throughput                        Producer Avg Latency    Consumer Throughput                    Consumer Avg Latency\n",
      "-----  -----------------------------------------  ----------------------  -------------------------------------  ----------------------\n",
      "kafka  106245.086165 records/sec (103.75 MB/sec)  298.99 ms               72244.18 records/sec (70.55 MB/sec)    6.86 ms\n",
      "pafka  362778.886269 records/sec (354.28 MB/sec)  27.94 ms                533219.58 records/sec (520.72 MB/sec)  0.91 ms\n"
     ]
    }
   ],
   "source": [
    "# print the summarized results\n",
    "print_result()"
   ]
  },
  {
   "cell_type": "code",
   "execution_count": null,
   "id": "46fca0ef-9218-43af-92ac-f3505a2816ba",
   "metadata": {},
   "outputs": [],
   "source": []
  }
 ],
 "metadata": {
  "kernelspec": {
   "display_name": "Python 3",
   "language": "python",
   "name": "python3"
  },
  "language_info": {
   "codemirror_mode": {
    "name": "ipython",
    "version": 3
   },
   "file_extension": ".py",
   "mimetype": "text/x-python",
   "name": "python",
   "nbconvert_exporter": "python",
   "pygments_lexer": "ipython3",
   "version": "3.6.8"
  }
 },
 "nbformat": 4,
 "nbformat_minor": 5
}
